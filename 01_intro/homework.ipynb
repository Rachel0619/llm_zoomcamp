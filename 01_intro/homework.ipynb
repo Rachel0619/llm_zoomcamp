{
 "cells": [
  {
   "cell_type": "code",
   "execution_count": 1,
   "id": "41d35fb2-dfc3-4389-973e-2d427ee6fd1b",
   "metadata": {},
   "outputs": [],
   "source": [
    "import openai"
   ]
  },
  {
   "cell_type": "code",
   "execution_count": 2,
   "id": "2c613b1e-046d-4cf7-936d-6b38cf15c04e",
   "metadata": {},
   "outputs": [],
   "source": [
    "from openai import OpenAI"
   ]
  },
  {
   "cell_type": "code",
   "execution_count": 3,
   "id": "e198d2b7-f39a-4aa5-9826-b9f355d5082b",
   "metadata": {},
   "outputs": [],
   "source": [
    "client = OpenAI()"
   ]
  },
  {
   "cell_type": "code",
   "execution_count": 4,
   "id": "0fe89a4a-9cb9-4c4f-ae3c-6a58e6e2669d",
   "metadata": {},
   "outputs": [],
   "source": [
    "import os"
   ]
  },
  {
   "cell_type": "code",
   "execution_count": 5,
   "id": "afa02bf2-86a1-469b-b8d5-bfd235c99ebf",
   "metadata": {},
   "outputs": [],
   "source": [
    "response = client.chat.completions.create(\n",
    "    model='gpt-4o',\n",
    "    messages=[{\"role\": \"user\", \"content\": \"is it too late the join the course?\"}]\n",
    ")"
   ]
  },
  {
   "cell_type": "code",
   "execution_count": 6,
   "id": "2274227f-2bda-4234-bd78-9efe1e1d9f19",
   "metadata": {},
   "outputs": [
    {
     "data": {
      "text/plain": [
       "\"To determine if it's too late to join a course, you'll need to consider several factors:\\n\\n1. **Enrollment Deadlines**: Check if the course still accepts new enrollments. Many courses have a specific window of time when students can sign up.\\n\\n2. **Course Start Date**: If the course has already started, find out how far along it is. Some courses allow late joiners and have the resources to help you catch up, while others may not.\\n\\n3. **Instructor Policies**: Contact the course instructor or administration to inquire about joining late. They may allow exceptions or offer guidance on how to get up to speed.\\n\\n4. **Course Format**: Online courses often have more flexible enrollment policies compared to in-person classes. Self-paced online courses might allow you to start at any time.\\n\\n5. **Requirements and Prerequisites**: Ensure you meet all the prerequisites and are prepared to catch up on any missed material.\\n\\nIf you aren’t sure about any of these details, the best approach is to reach out directly to the course provider or instructor. They can give you specific information and advice on whether you can still join and what steps you might need to take.\""
      ]
     },
     "execution_count": 6,
     "metadata": {},
     "output_type": "execute_result"
    }
   ],
   "source": [
    "response.choices[0].message.content"
   ]
  }
 ],
 "metadata": {
  "kernelspec": {
   "display_name": "Python 3 (ipykernel)",
   "language": "python",
   "name": "python3"
  },
  "language_info": {
   "codemirror_mode": {
    "name": "ipython",
    "version": 3
   },
   "file_extension": ".py",
   "mimetype": "text/x-python",
   "name": "python",
   "nbconvert_exporter": "python",
   "pygments_lexer": "ipython3",
   "version": "3.10.13"
  }
 },
 "nbformat": 4,
 "nbformat_minor": 5
}
